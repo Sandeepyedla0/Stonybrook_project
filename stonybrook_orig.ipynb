{
 "cells": [
  {
   "cell_type": "code",
   "execution_count": 1,
   "metadata": {
    "colab": {
     "base_uri": "https://localhost:8080/"
    },
    "executionInfo": {
     "elapsed": 484763,
     "status": "ok",
     "timestamp": 1692213903114,
     "user": {
      "displayName": "sandeep kumar yedla",
      "userId": "03095330533283244433"
     },
     "user_tz": 240
    },
    "id": "vJcc7iqArtoq",
    "outputId": "de6a08d4-69b4-420f-8b9d-5129f7acfa21"
   },
   "outputs": [
    {
     "name": "stdout",
     "output_type": "stream",
     "text": [
      "Collecting pandas==1.2.4\n",
      "  Downloading pandas-1.2.4-cp38-cp38-macosx_10_9_x86_64.whl (10.5 MB)\n",
      "\u001b[2K     \u001b[90m━━━━━━━━━━━━━━━━━━━━━━━━━━━━━━━━━━━━━━━━\u001b[0m \u001b[32m10.5/10.5 MB\u001b[0m \u001b[31m11.5 MB/s\u001b[0m eta \u001b[36m0:00:00\u001b[0m00:01\u001b[0m:01\u001b[0mm\n",
      "\u001b[?25hRequirement already satisfied: python-dateutil>=2.7.3 in /Users/sandeepkumaryedla/Library/jupyterlab-desktop/jlab_server/lib/python3.8/site-packages (from pandas==1.2.4) (2.8.2)\n",
      "Requirement already satisfied: pytz>=2017.3 in /Users/sandeepkumaryedla/Library/jupyterlab-desktop/jlab_server/lib/python3.8/site-packages (from pandas==1.2.4) (2023.3)\n",
      "Requirement already satisfied: numpy>=1.16.5 in /Users/sandeepkumaryedla/Library/jupyterlab-desktop/jlab_server/lib/python3.8/site-packages (from pandas==1.2.4) (1.24.4)\n",
      "Requirement already satisfied: six>=1.5 in /Users/sandeepkumaryedla/Library/jupyterlab-desktop/jlab_server/lib/python3.8/site-packages (from python-dateutil>=2.7.3->pandas==1.2.4) (1.16.0)\n",
      "Installing collected packages: pandas\n",
      "  Attempting uninstall: pandas\n",
      "    Found existing installation: pandas 2.0.3\n",
      "    Uninstalling pandas-2.0.3:\n",
      "      Successfully uninstalled pandas-2.0.3\n",
      "Successfully installed pandas-1.2.4\n",
      "Note: you may need to restart the kernel to use updated packages.\n"
     ]
    }
   ],
   "source": [
    "pip install pandas==1.2.4\n",
    "pip install numpy==1.20.3"
   ]
  },
  {
   "cell_type": "code",
   "execution_count": 1,
   "metadata": {
    "executionInfo": {
     "elapsed": 134,
     "status": "ok",
     "timestamp": 1692214033159,
     "user": {
      "displayName": "sandeep kumar yedla",
      "userId": "03095330533283244433"
     },
     "user_tz": 240
    },
    "id": "6WXd8_BkszFX"
   },
   "outputs": [],
   "source": [
    "# importing libraries\n",
    "import pandas as pd\n",
    "import numpy as np"
   ]
  },
  {
   "cell_type": "code",
   "execution_count": 2,
   "metadata": {
    "colab": {
     "base_uri": "https://localhost:8080/"
    },
    "executionInfo": {
     "elapsed": 11,
     "status": "ok",
     "timestamp": 1692214033159,
     "user": {
      "displayName": "sandeep kumar yedla",
      "userId": "03095330533283244433"
     },
     "user_tz": 240
    },
    "id": "mdJTc2X7sPmC",
    "outputId": "13b10857-f38a-4357-bc44-efb7abc50f53"
   },
   "outputs": [
    {
     "name": "stdout",
     "output_type": "stream",
     "text": [
      "1.2.4\n",
      "1.20.3\n"
     ]
    }
   ],
   "source": [
    "# checking the version \n",
    "print(pd.__version__)\n",
    "print(np.__version__)"
   ]
  },
  {
   "cell_type": "code",
   "execution_count": 3,
   "metadata": {
    "executionInfo": {
     "elapsed": 991,
     "status": "ok",
     "timestamp": 1692214034146,
     "user": {
      "displayName": "sandeep kumar yedla",
      "userId": "03095330533283244433"
     },
     "user_tz": 240
    },
    "id": "o_MVfPudstzZ"
   },
   "outputs": [],
   "source": [
    "# laoding dataframes\n",
    "diagnosis_df=pd.read_csv(\"diagnosis.csv\")\n",
    "patient_df = pd.read_csv(\"patient.csv\")\n",
    "visit_df = pd.read_csv(\"visit.csv\")"
   ]
  },
  {
   "cell_type": "code",
   "execution_count": 44,
   "metadata": {
    "colab": {
     "base_uri": "https://localhost:8080/",
     "height": 206
    },
    "executionInfo": {
     "elapsed": 104,
     "status": "ok",
     "timestamp": 1692214034246,
     "user": {
      "displayName": "sandeep kumar yedla",
      "userId": "03095330533283244433"
     },
     "user_tz": 240
    },
    "id": "Y6WHG1BxuM-R",
    "outputId": "99617481-a8a7-4c72-b876-0f4136adc57e"
   },
   "outputs": [
    {
     "data": {
      "text/html": [
       "<div>\n",
       "<style scoped>\n",
       "    .dataframe tbody tr th:only-of-type {\n",
       "        vertical-align: middle;\n",
       "    }\n",
       "\n",
       "    .dataframe tbody tr th {\n",
       "        vertical-align: top;\n",
       "    }\n",
       "\n",
       "    .dataframe thead th {\n",
       "        text-align: right;\n",
       "    }\n",
       "</style>\n",
       "<table border=\"1\" class=\"dataframe\">\n",
       "  <thead>\n",
       "    <tr style=\"text-align: right;\">\n",
       "      <th></th>\n",
       "      <th>person_id</th>\n",
       "      <th>diagnosis_date</th>\n",
       "      <th>diagnosis_id</th>\n",
       "      <th>diagnosis</th>\n",
       "    </tr>\n",
       "  </thead>\n",
       "  <tbody>\n",
       "    <tr>\n",
       "      <th>0</th>\n",
       "      <td>10107</td>\n",
       "      <td>2016-04-06</td>\n",
       "      <td>54245</td>\n",
       "      <td>D1.2</td>\n",
       "    </tr>\n",
       "    <tr>\n",
       "      <th>1</th>\n",
       "      <td>10492</td>\n",
       "      <td>2017-05-18</td>\n",
       "      <td>54500</td>\n",
       "      <td>D1.2</td>\n",
       "    </tr>\n",
       "    <tr>\n",
       "      <th>2</th>\n",
       "      <td>11223</td>\n",
       "      <td>2021-06-24</td>\n",
       "      <td>58782</td>\n",
       "      <td>C1.1</td>\n",
       "    </tr>\n",
       "    <tr>\n",
       "      <th>3</th>\n",
       "      <td>10009</td>\n",
       "      <td>2017-05-24</td>\n",
       "      <td>59462</td>\n",
       "      <td>D1.2</td>\n",
       "    </tr>\n",
       "    <tr>\n",
       "      <th>4</th>\n",
       "      <td>10671</td>\n",
       "      <td>2016-06-21</td>\n",
       "      <td>62066</td>\n",
       "      <td>D1.2</td>\n",
       "    </tr>\n",
       "  </tbody>\n",
       "</table>\n",
       "</div>"
      ],
      "text/plain": [
       "   person_id diagnosis_date  diagnosis_id diagnosis\n",
       "0      10107     2016-04-06         54245      D1.2\n",
       "1      10492     2017-05-18         54500      D1.2\n",
       "2      11223     2021-06-24         58782      C1.1\n",
       "3      10009     2017-05-24         59462      D1.2\n",
       "4      10671     2016-06-21         62066      D1.2"
      ]
     },
     "execution_count": 44,
     "metadata": {},
     "output_type": "execute_result"
    }
   ],
   "source": [
    "diagnosis_df.head()"
   ]
  },
  {
   "cell_type": "code",
   "execution_count": 45,
   "metadata": {
    "colab": {
     "base_uri": "https://localhost:8080/",
     "height": 206
    },
    "executionInfo": {
     "elapsed": 16,
     "status": "ok",
     "timestamp": 1692214034247,
     "user": {
      "displayName": "sandeep kumar yedla",
      "userId": "03095330533283244433"
     },
     "user_tz": 240
    },
    "id": "hVYHFheHxp9D",
    "outputId": "2c55ae80-a71e-4076-a800-5d74bce2af59"
   },
   "outputs": [
    {
     "data": {
      "text/html": [
       "<div>\n",
       "<style scoped>\n",
       "    .dataframe tbody tr th:only-of-type {\n",
       "        vertical-align: middle;\n",
       "    }\n",
       "\n",
       "    .dataframe tbody tr th {\n",
       "        vertical-align: top;\n",
       "    }\n",
       "\n",
       "    .dataframe thead th {\n",
       "        text-align: right;\n",
       "    }\n",
       "</style>\n",
       "<table border=\"1\" class=\"dataframe\">\n",
       "  <thead>\n",
       "    <tr style=\"text-align: right;\">\n",
       "      <th></th>\n",
       "      <th>person_id</th>\n",
       "      <th>date_of_birth</th>\n",
       "      <th>gender</th>\n",
       "    </tr>\n",
       "  </thead>\n",
       "  <tbody>\n",
       "    <tr>\n",
       "      <th>0</th>\n",
       "      <td>10000</td>\n",
       "      <td>1954-03-17</td>\n",
       "      <td>F</td>\n",
       "    </tr>\n",
       "    <tr>\n",
       "      <th>1</th>\n",
       "      <td>10001</td>\n",
       "      <td>1963-01-06</td>\n",
       "      <td>F</td>\n",
       "    </tr>\n",
       "    <tr>\n",
       "      <th>2</th>\n",
       "      <td>10002</td>\n",
       "      <td>1961-11-17</td>\n",
       "      <td>M</td>\n",
       "    </tr>\n",
       "    <tr>\n",
       "      <th>3</th>\n",
       "      <td>10003</td>\n",
       "      <td>1956-04-24</td>\n",
       "      <td>F</td>\n",
       "    </tr>\n",
       "    <tr>\n",
       "      <th>4</th>\n",
       "      <td>10004</td>\n",
       "      <td>1963-07-04</td>\n",
       "      <td>F</td>\n",
       "    </tr>\n",
       "  </tbody>\n",
       "</table>\n",
       "</div>"
      ],
      "text/plain": [
       "   person_id date_of_birth gender\n",
       "0      10000    1954-03-17      F\n",
       "1      10001    1963-01-06      F\n",
       "2      10002    1961-11-17      M\n",
       "3      10003    1956-04-24      F\n",
       "4      10004    1963-07-04      F"
      ]
     },
     "execution_count": 45,
     "metadata": {},
     "output_type": "execute_result"
    }
   ],
   "source": [
    "patient_df.head()"
   ]
  },
  {
   "cell_type": "code",
   "execution_count": 46,
   "metadata": {
    "colab": {
     "base_uri": "https://localhost:8080/",
     "height": 206
    },
    "executionInfo": {
     "elapsed": 15,
     "status": "ok",
     "timestamp": 1692214034247,
     "user": {
      "displayName": "sandeep kumar yedla",
      "userId": "03095330533283244433"
     },
     "user_tz": 240
    },
    "id": "3bwSWrbvxsLX",
    "outputId": "34b501fd-e6ba-4b3e-8cc7-7b4477e90fba"
   },
   "outputs": [
    {
     "data": {
      "text/html": [
       "<div>\n",
       "<style scoped>\n",
       "    .dataframe tbody tr th:only-of-type {\n",
       "        vertical-align: middle;\n",
       "    }\n",
       "\n",
       "    .dataframe tbody tr th {\n",
       "        vertical-align: top;\n",
       "    }\n",
       "\n",
       "    .dataframe thead th {\n",
       "        text-align: right;\n",
       "    }\n",
       "</style>\n",
       "<table border=\"1\" class=\"dataframe\">\n",
       "  <thead>\n",
       "    <tr style=\"text-align: right;\">\n",
       "      <th></th>\n",
       "      <th>unit_name</th>\n",
       "      <th>visit_id</th>\n",
       "      <th>visit_date</th>\n",
       "      <th>test_name</th>\n",
       "      <th>test_value</th>\n",
       "      <th>person_id</th>\n",
       "    </tr>\n",
       "  </thead>\n",
       "  <tbody>\n",
       "    <tr>\n",
       "      <th>0</th>\n",
       "      <td>Unit02</td>\n",
       "      <td>53816</td>\n",
       "      <td>2021-01-05</td>\n",
       "      <td>TestA</td>\n",
       "      <td>64.104983</td>\n",
       "      <td>11476</td>\n",
       "    </tr>\n",
       "    <tr>\n",
       "      <th>1</th>\n",
       "      <td>Unit01</td>\n",
       "      <td>54189</td>\n",
       "      <td>2016-07-18</td>\n",
       "      <td>TestC</td>\n",
       "      <td>68.506593</td>\n",
       "      <td>11134</td>\n",
       "    </tr>\n",
       "    <tr>\n",
       "      <th>2</th>\n",
       "      <td>Unit02</td>\n",
       "      <td>54406</td>\n",
       "      <td>2017-07-21</td>\n",
       "      <td>TestA</td>\n",
       "      <td>50.432863</td>\n",
       "      <td>10154</td>\n",
       "    </tr>\n",
       "    <tr>\n",
       "      <th>3</th>\n",
       "      <td>Unit02</td>\n",
       "      <td>56053</td>\n",
       "      <td>2019-09-10</td>\n",
       "      <td>TestA</td>\n",
       "      <td>74.358531</td>\n",
       "      <td>10261</td>\n",
       "    </tr>\n",
       "    <tr>\n",
       "      <th>4</th>\n",
       "      <td>Unit02</td>\n",
       "      <td>56740</td>\n",
       "      <td>2021-01-20</td>\n",
       "      <td>TestA</td>\n",
       "      <td>39.958341</td>\n",
       "      <td>11282</td>\n",
       "    </tr>\n",
       "  </tbody>\n",
       "</table>\n",
       "</div>"
      ],
      "text/plain": [
       "  unit_name  visit_id  visit_date test_name  test_value  person_id\n",
       "0    Unit02     53816  2021-01-05     TestA   64.104983      11476\n",
       "1    Unit01     54189  2016-07-18     TestC   68.506593      11134\n",
       "2    Unit02     54406  2017-07-21     TestA   50.432863      10154\n",
       "3    Unit02     56053  2019-09-10     TestA   74.358531      10261\n",
       "4    Unit02     56740  2021-01-20     TestA   39.958341      11282"
      ]
     },
     "execution_count": 46,
     "metadata": {},
     "output_type": "execute_result"
    }
   ],
   "source": [
    "visit_df.head()"
   ]
  },
  {
   "cell_type": "code",
   "execution_count": 47,
   "metadata": {
    "colab": {
     "base_uri": "https://localhost:8080/"
    },
    "executionInfo": {
     "elapsed": 14,
     "status": "ok",
     "timestamp": 1692214034247,
     "user": {
      "displayName": "sandeep kumar yedla",
      "userId": "03095330533283244433"
     },
     "user_tz": 240
    },
    "id": "kLbv0yeExuhd",
    "outputId": "b1a7ff56-41d7-459c-c583-fd038ff572eb"
   },
   "outputs": [
    {
     "data": {
      "text/plain": [
       "person_id         0\n",
       "diagnosis_date    0\n",
       "diagnosis_id      0\n",
       "diagnosis         0\n",
       "dtype: int64"
      ]
     },
     "execution_count": 47,
     "metadata": {},
     "output_type": "execute_result"
    }
   ],
   "source": [
    "diagnosis_null_count=diagnosis_df.isnull().sum()\n",
    "diagnosis_null_count"
   ]
  },
  {
   "cell_type": "code",
   "execution_count": 48,
   "metadata": {
    "colab": {
     "base_uri": "https://localhost:8080/"
    },
    "executionInfo": {
     "elapsed": 12,
     "status": "ok",
     "timestamp": 1692214034248,
     "user": {
      "displayName": "sandeep kumar yedla",
      "userId": "03095330533283244433"
     },
     "user_tz": 240
    },
    "id": "OgjkCjTs75oV",
    "outputId": "0bff91a6-5d67-43fd-9252-8cd8b4fba3a1"
   },
   "outputs": [
    {
     "data": {
      "text/plain": [
       "unit_name     0\n",
       "visit_id      0\n",
       "visit_date    0\n",
       "test_name     0\n",
       "test_value    0\n",
       "person_id     0\n",
       "dtype: int64"
      ]
     },
     "execution_count": 48,
     "metadata": {},
     "output_type": "execute_result"
    }
   ],
   "source": [
    "visit_null_count=visit_df.isnull().sum()\n",
    "visit_null_count"
   ]
  },
  {
   "cell_type": "code",
   "execution_count": 49,
   "metadata": {
    "colab": {
     "base_uri": "https://localhost:8080/"
    },
    "executionInfo": {
     "elapsed": 11,
     "status": "ok",
     "timestamp": 1692214034248,
     "user": {
      "displayName": "sandeep kumar yedla",
      "userId": "03095330533283244433"
     },
     "user_tz": 240
    },
    "id": "3R1U9aq07-DN",
    "outputId": "970fc56d-7577-4c4d-c518-904991dcc9de"
   },
   "outputs": [
    {
     "data": {
      "text/plain": [
       "person_id        0\n",
       "date_of_birth    0\n",
       "gender           0\n",
       "dtype: int64"
      ]
     },
     "execution_count": 49,
     "metadata": {},
     "output_type": "execute_result"
    }
   ],
   "source": [
    "patient_null_count=patient_df.isnull().sum()\n",
    "patient_null_count"
   ]
  },
  {
   "cell_type": "code",
   "execution_count": 10,
   "metadata": {
    "colab": {
     "base_uri": "https://localhost:8080/"
    },
    "executionInfo": {
     "elapsed": 99,
     "status": "ok",
     "timestamp": 1692214034337,
     "user": {
      "displayName": "sandeep kumar yedla",
      "userId": "03095330533283244433"
     },
     "user_tz": 240
    },
    "id": "rC1_BBjq8CVi",
    "outputId": "d2b22a0b-b323-43a4-9229-03769d04537a"
   },
   "outputs": [
    {
     "data": {
      "text/plain": [
       "(11346, 6)"
      ]
     },
     "execution_count": 10,
     "metadata": {},
     "output_type": "execute_result"
    }
   ],
   "source": [
    "visit_df.shape"
   ]
  },
  {
   "cell_type": "code",
   "execution_count": 11,
   "metadata": {
    "colab": {
     "base_uri": "https://localhost:8080/"
    },
    "executionInfo": {
     "elapsed": 13,
     "status": "ok",
     "timestamp": 1692214034338,
     "user": {
      "displayName": "sandeep kumar yedla",
      "userId": "03095330533283244433"
     },
     "user_tz": 240
    },
    "id": "bpVrrvb98Fyo",
    "outputId": "863281cc-4f5a-4dcb-922c-d7758161658c"
   },
   "outputs": [
    {
     "data": {
      "text/plain": [
       "(3782, 4)"
      ]
     },
     "execution_count": 11,
     "metadata": {},
     "output_type": "execute_result"
    }
   ],
   "source": [
    "diagnosis_df.shape"
   ]
  },
  {
   "cell_type": "code",
   "execution_count": 54,
   "metadata": {
    "executionInfo": {
     "elapsed": 12,
     "status": "ok",
     "timestamp": 1692214034338,
     "user": {
      "displayName": "sandeep kumar yedla",
      "userId": "03095330533283244433"
     },
     "user_tz": 240
    },
    "id": "mykwPftY8iMD"
   },
   "outputs": [],
   "source": [
    "# condition-based filtering for 'Unit01' and 'D1.2'\n",
    "filtered_visit = visit_df[visit_df['unit_name'] == 'Unit01']\n",
    "filtered_diagnosis = diagnosis_df[diagnosis_df['diagnosis'] == \"D1.2\" ]\n",
    "#filtered_df = np.where(diagnosis_df['diagnosis'] == 'D1.2')"
   ]
  },
  {
   "cell_type": "code",
   "execution_count": 56,
   "metadata": {
    "executionInfo": {
     "elapsed": 11,
     "status": "ok",
     "timestamp": 1692214034338,
     "user": {
      "displayName": "sandeep kumar yedla",
      "userId": "03095330533283244433"
     },
     "user_tz": 240
    },
    "id": "cv4HtcqC_kzD"
   },
   "outputs": [
    {
     "data": {
      "text/plain": [
       "(2782, 4)"
      ]
     },
     "execution_count": 56,
     "metadata": {},
     "output_type": "execute_result"
    }
   ],
   "source": [
    "filtered_diagnosis.shape"
   ]
  },
  {
   "cell_type": "code",
   "execution_count": 57,
   "metadata": {
    "colab": {
     "base_uri": "https://localhost:8080/"
    },
    "executionInfo": {
     "elapsed": 12,
     "status": "ok",
     "timestamp": 1692214034339,
     "user": {
      "displayName": "sandeep kumar yedla",
      "userId": "03095330533283244433"
     },
     "user_tz": 240
    },
    "id": "yDd8epdRABD3",
    "outputId": "6ba85bc0-d809-4d2c-8e9b-f73d219a5db1"
   },
   "outputs": [
    {
     "data": {
      "text/plain": [
       "(3315, 6)"
      ]
     },
     "execution_count": 57,
     "metadata": {},
     "output_type": "execute_result"
    }
   ],
   "source": [
    "filtered_visit.shape\n"
   ]
  },
  {
   "cell_type": "code",
   "execution_count": 27,
   "metadata": {
    "colab": {
     "base_uri": "https://localhost:8080/",
     "height": 424
    },
    "executionInfo": {
     "elapsed": 11,
     "status": "ok",
     "timestamp": 1692214034339,
     "user": {
      "displayName": "sandeep kumar yedla",
      "userId": "03095330533283244433"
     },
     "user_tz": 240
    },
    "id": "cQmU4MQ7CaHg",
    "outputId": "bfc53b98-1dc1-4b21-91ce-baa03f050c89"
   },
   "outputs": [
    {
     "data": {
      "text/html": [
       "<div>\n",
       "<style scoped>\n",
       "    .dataframe tbody tr th:only-of-type {\n",
       "        vertical-align: middle;\n",
       "    }\n",
       "\n",
       "    .dataframe tbody tr th {\n",
       "        vertical-align: top;\n",
       "    }\n",
       "\n",
       "    .dataframe thead th {\n",
       "        text-align: right;\n",
       "    }\n",
       "</style>\n",
       "<table border=\"1\" class=\"dataframe\">\n",
       "  <thead>\n",
       "    <tr style=\"text-align: right;\">\n",
       "      <th></th>\n",
       "      <th>unit_name</th>\n",
       "      <th>visit_id</th>\n",
       "      <th>visit_date</th>\n",
       "      <th>test_name</th>\n",
       "      <th>test_value</th>\n",
       "      <th>person_id</th>\n",
       "    </tr>\n",
       "  </thead>\n",
       "  <tbody>\n",
       "    <tr>\n",
       "      <th>1</th>\n",
       "      <td>Unit01</td>\n",
       "      <td>54189</td>\n",
       "      <td>2016-07-18</td>\n",
       "      <td>TestC</td>\n",
       "      <td>68.506593</td>\n",
       "      <td>11134</td>\n",
       "    </tr>\n",
       "    <tr>\n",
       "      <th>7</th>\n",
       "      <td>Unit01</td>\n",
       "      <td>59134</td>\n",
       "      <td>2017-06-27</td>\n",
       "      <td>TestC</td>\n",
       "      <td>27.982604</td>\n",
       "      <td>11767</td>\n",
       "    </tr>\n",
       "    <tr>\n",
       "      <th>9</th>\n",
       "      <td>Unit01</td>\n",
       "      <td>59944</td>\n",
       "      <td>2016-02-09</td>\n",
       "      <td>TestB</td>\n",
       "      <td>25.064054</td>\n",
       "      <td>11535</td>\n",
       "    </tr>\n",
       "    <tr>\n",
       "      <th>10</th>\n",
       "      <td>Unit01</td>\n",
       "      <td>61221</td>\n",
       "      <td>2021-03-29</td>\n",
       "      <td>TestC</td>\n",
       "      <td>97.890644</td>\n",
       "      <td>10179</td>\n",
       "    </tr>\n",
       "    <tr>\n",
       "      <th>13</th>\n",
       "      <td>Unit01</td>\n",
       "      <td>62350</td>\n",
       "      <td>2017-06-28</td>\n",
       "      <td>TestB</td>\n",
       "      <td>39.138280</td>\n",
       "      <td>11677</td>\n",
       "    </tr>\n",
       "  </tbody>\n",
       "</table>\n",
       "</div>"
      ],
      "text/plain": [
       "   unit_name  visit_id visit_date test_name  test_value  person_id\n",
       "1     Unit01     54189 2016-07-18     TestC   68.506593      11134\n",
       "7     Unit01     59134 2017-06-27     TestC   27.982604      11767\n",
       "9     Unit01     59944 2016-02-09     TestB   25.064054      11535\n",
       "10    Unit01     61221 2021-03-29     TestC   97.890644      10179\n",
       "13    Unit01     62350 2017-06-28     TestB   39.138280      11677"
      ]
     },
     "execution_count": 27,
     "metadata": {},
     "output_type": "execute_result"
    }
   ],
   "source": [
    "filtered_visit.head()"
   ]
  },
  {
   "cell_type": "code",
   "execution_count": 29,
   "metadata": {
    "colab": {
     "base_uri": "https://localhost:8080/"
    },
    "executionInfo": {
     "elapsed": 10,
     "status": "ok",
     "timestamp": 1692214034340,
     "user": {
      "displayName": "sandeep kumar yedla",
      "userId": "03095330533283244433"
     },
     "user_tz": 240
    },
    "id": "qQJtep1NAz8Y",
    "outputId": "2681f1bf-c0ed-4ecc-de76-c8ea6a733ed7"
   },
   "outputs": [
    {
     "name": "stderr",
     "output_type": "stream",
     "text": [
      "/var/folders/wr/prwm0mbx7m98xhz8f24wmh5r0000gn/T/ipykernel_5075/499807394.py:1: SettingWithCopyWarning: \n",
      "A value is trying to be set on a copy of a slice from a DataFrame.\n",
      "Try using .loc[row_indexer,col_indexer] = value instead\n",
      "\n",
      "See the caveats in the documentation: https://pandas.pydata.org/pandas-docs/stable/user_guide/indexing.html#returning-a-view-versus-a-copy\n",
      "  filtered_diagnosis['diagnosis_date'] = pd.to_datetime(diagnosis_df['diagnosis_date'])\n",
      "/var/folders/wr/prwm0mbx7m98xhz8f24wmh5r0000gn/T/ipykernel_5075/499807394.py:2: SettingWithCopyWarning: \n",
      "A value is trying to be set on a copy of a slice from a DataFrame.\n",
      "Try using .loc[row_indexer,col_indexer] = value instead\n",
      "\n",
      "See the caveats in the documentation: https://pandas.pydata.org/pandas-docs/stable/user_guide/indexing.html#returning-a-view-versus-a-copy\n",
      "  filtered_visit['visit_date'] = pd.to_datetime(filtered_visit['visit_date'])\n"
     ]
    }
   ],
   "source": [
    "# converting to date columns to DateTime format\n",
    "filtered_diagnosis['diagnosis_date'] = pd.to_datetime(diagnosis_df['diagnosis_date'])\n",
    "filtered_visit['visit_date'] = pd.to_datetime(filtered_visit['visit_date'])"
   ]
  },
  {
   "cell_type": "code",
   "execution_count": 30,
   "metadata": {
    "colab": {
     "base_uri": "https://localhost:8080/"
    },
    "executionInfo": {
     "elapsed": 10,
     "status": "ok",
     "timestamp": 1692214034425,
     "user": {
      "displayName": "sandeep kumar yedla",
      "userId": "03095330533283244433"
     },
     "user_tz": 240
    },
    "id": "5EW4aJbKIbnn",
    "outputId": "bf48daa9-4e9e-4734-d30d-2e288b98a9d6"
   },
   "outputs": [
    {
     "data": {
      "text/plain": [
       "person_id                  int64\n",
       "diagnosis_date    datetime64[ns]\n",
       "diagnosis_id               int64\n",
       "diagnosis                 object\n",
       "dtype: object"
      ]
     },
     "execution_count": 30,
     "metadata": {},
     "output_type": "execute_result"
    }
   ],
   "source": [
    "filtered_diagnosis.dtypes"
   ]
  },
  {
   "cell_type": "code",
   "execution_count": 22,
   "metadata": {
    "executionInfo": {
     "elapsed": 155,
     "status": "ok",
     "timestamp": 1692214045815,
     "user": {
      "displayName": "sandeep kumar yedla",
      "userId": "03095330533283244433"
     },
     "user_tz": 240
    },
    "id": "Pxf06CX-0Lji"
   },
   "outputs": [],
   "source": [
    "# creating a merge_df from filtered_df\n",
    "merge_df = pd.merge(filtered_visit, filtered_diagnosis, on='person_id', how='inner')\n",
    "# Condition to check visiti dates falls within the 7 days of diagnosis date\n",
    "merge_df = merge_df[(merge_df['visit_date'] > merge_df['diagnosis_date']) &\n",
    "                    (merge_df['visit_date'] <= merge_df['diagnosis_date'] + pd.DateOffset(days=7))]\n"
   ]
  },
  {
   "cell_type": "code",
   "execution_count": 40,
   "metadata": {},
   "outputs": [],
   "source": [
    "# sorting the values by person_id\n",
    "merge_df.sort_values(by='person_id', ascending= True, inplace=True)"
   ]
  },
  {
   "cell_type": "code",
   "execution_count": 41,
   "metadata": {},
   "outputs": [
    {
     "data": {
      "text/html": [
       "<div>\n",
       "<style scoped>\n",
       "    .dataframe tbody tr th:only-of-type {\n",
       "        vertical-align: middle;\n",
       "    }\n",
       "\n",
       "    .dataframe tbody tr th {\n",
       "        vertical-align: top;\n",
       "    }\n",
       "\n",
       "    .dataframe thead th {\n",
       "        text-align: right;\n",
       "    }\n",
       "</style>\n",
       "<table border=\"1\" class=\"dataframe\">\n",
       "  <thead>\n",
       "    <tr style=\"text-align: right;\">\n",
       "      <th></th>\n",
       "      <th>unit_name</th>\n",
       "      <th>visit_id</th>\n",
       "      <th>visit_date</th>\n",
       "      <th>test_name</th>\n",
       "      <th>test_value</th>\n",
       "      <th>person_id</th>\n",
       "      <th>diagnosis_date</th>\n",
       "      <th>diagnosis_id</th>\n",
       "      <th>diagnosis</th>\n",
       "    </tr>\n",
       "  </thead>\n",
       "  <tbody>\n",
       "    <tr>\n",
       "      <th>7524</th>\n",
       "      <td>Unit01</td>\n",
       "      <td>3861345</td>\n",
       "      <td>2021-02-28</td>\n",
       "      <td>TestC</td>\n",
       "      <td>37.019023</td>\n",
       "      <td>10008</td>\n",
       "      <td>2021-02-26</td>\n",
       "      <td>2180352</td>\n",
       "      <td>D1.2</td>\n",
       "    </tr>\n",
       "    <tr>\n",
       "      <th>2034</th>\n",
       "      <td>Unit01</td>\n",
       "      <td>1616367</td>\n",
       "      <td>2017-04-09</td>\n",
       "      <td>TestC</td>\n",
       "      <td>47.570295</td>\n",
       "      <td>10009</td>\n",
       "      <td>2017-04-07</td>\n",
       "      <td>4585470</td>\n",
       "      <td>D1.2</td>\n",
       "    </tr>\n",
       "    <tr>\n",
       "      <th>2026</th>\n",
       "      <td>Unit01</td>\n",
       "      <td>605187</td>\n",
       "      <td>2017-05-27</td>\n",
       "      <td>TestB</td>\n",
       "      <td>72.814277</td>\n",
       "      <td>10009</td>\n",
       "      <td>2017-05-24</td>\n",
       "      <td>59462</td>\n",
       "      <td>D1.2</td>\n",
       "    </tr>\n",
       "    <tr>\n",
       "      <th>2037</th>\n",
       "      <td>Unit01</td>\n",
       "      <td>4386690</td>\n",
       "      <td>2016-03-29</td>\n",
       "      <td>TestC</td>\n",
       "      <td>48.975403</td>\n",
       "      <td>10009</td>\n",
       "      <td>2016-03-25</td>\n",
       "      <td>1159902</td>\n",
       "      <td>D1.2</td>\n",
       "    </tr>\n",
       "    <tr>\n",
       "      <th>2043</th>\n",
       "      <td>Unit01</td>\n",
       "      <td>7879515</td>\n",
       "      <td>2017-05-09</td>\n",
       "      <td>TestB</td>\n",
       "      <td>80.845555</td>\n",
       "      <td>10009</td>\n",
       "      <td>2017-05-07</td>\n",
       "      <td>2151709</td>\n",
       "      <td>D1.2</td>\n",
       "    </tr>\n",
       "  </tbody>\n",
       "</table>\n",
       "</div>"
      ],
      "text/plain": [
       "     unit_name  visit_id visit_date test_name  test_value  person_id  \\\n",
       "7524    Unit01   3861345 2021-02-28     TestC   37.019023      10008   \n",
       "2034    Unit01   1616367 2017-04-09     TestC   47.570295      10009   \n",
       "2026    Unit01    605187 2017-05-27     TestB   72.814277      10009   \n",
       "2037    Unit01   4386690 2016-03-29     TestC   48.975403      10009   \n",
       "2043    Unit01   7879515 2017-05-09     TestB   80.845555      10009   \n",
       "\n",
       "     diagnosis_date  diagnosis_id diagnosis  \n",
       "7524     2021-02-26       2180352      D1.2  \n",
       "2034     2017-04-07       4585470      D1.2  \n",
       "2026     2017-05-24         59462      D1.2  \n",
       "2037     2016-03-25       1159902      D1.2  \n",
       "2043     2017-05-07       2151709      D1.2  "
      ]
     },
     "execution_count": 41,
     "metadata": {},
     "output_type": "execute_result"
    }
   ],
   "source": [
    "merge_df.head()"
   ]
  },
  {
   "cell_type": "code",
   "execution_count": 58,
   "metadata": {
    "colab": {
     "base_uri": "https://localhost:8080/"
    },
    "executionInfo": {
     "elapsed": 12,
     "status": "ok",
     "timestamp": 1692214045816,
     "user": {
      "displayName": "sandeep kumar yedla",
      "userId": "03095330533283244433"
     },
     "user_tz": 240
    },
    "id": "CLF4ysI45Ju2",
    "outputId": "1c891c14-3b3a-4303-9d4b-6442e08094a0"
   },
   "outputs": [
    {
     "name": "stdout",
     "output_type": "stream",
     "text": [
      "Number of uniqie patients :  800\n"
     ]
    }
   ],
   "source": [
    "# finding out the unique_id in person_id column to check number of patient_id \n",
    "len(merge_df['person_id'].unique())\n",
    "print(\"Number of uniqie patients : \",len(merge_df['person_id'].unique()))"
   ]
  },
  {
   "cell_type": "code",
   "execution_count": null,
   "metadata": {
    "executionInfo": {
     "elapsed": 8,
     "status": "ok",
     "timestamp": 1692214045817,
     "user": {
      "displayName": "sandeep kumar yedla",
      "userId": "03095330533283244433"
     },
     "user_tz": 240
    },
    "id": "0XWSuzrK6Xzf"
   },
   "outputs": [],
   "source": [
    "\n"
   ]
  },
  {
   "cell_type": "code",
   "execution_count": 42,
   "metadata": {},
   "outputs": [],
   "source": []
  },
  {
   "cell_type": "code",
   "execution_count": 43,
   "metadata": {
    "colab": {
     "base_uri": "https://localhost:8080/",
     "height": 424
    },
    "executionInfo": {
     "elapsed": 8,
     "status": "ok",
     "timestamp": 1692214045817,
     "user": {
      "displayName": "sandeep kumar yedla",
      "userId": "03095330533283244433"
     },
     "user_tz": 240
    },
    "id": "_rj-dEPO6396",
    "outputId": "3574058e-81f4-4b75-9929-e206f2259618"
   },
   "outputs": [
    {
     "data": {
      "text/html": [
       "<div>\n",
       "<style scoped>\n",
       "    .dataframe tbody tr th:only-of-type {\n",
       "        vertical-align: middle;\n",
       "    }\n",
       "\n",
       "    .dataframe tbody tr th {\n",
       "        vertical-align: top;\n",
       "    }\n",
       "\n",
       "    .dataframe thead th {\n",
       "        text-align: right;\n",
       "    }\n",
       "</style>\n",
       "<table border=\"1\" class=\"dataframe\">\n",
       "  <thead>\n",
       "    <tr style=\"text-align: right;\">\n",
       "      <th></th>\n",
       "      <th>person_id</th>\n",
       "      <th>Diagnose_date</th>\n",
       "      <th>Visit_date</th>\n",
       "    </tr>\n",
       "  </thead>\n",
       "  <tbody>\n",
       "    <tr>\n",
       "      <th>1304</th>\n",
       "      <td>10008</td>\n",
       "      <td>2021-02-26</td>\n",
       "      <td>2021-02-28</td>\n",
       "    </tr>\n",
       "    <tr>\n",
       "      <th>6</th>\n",
       "      <td>10009</td>\n",
       "      <td>2017-05-24</td>\n",
       "      <td>2017-05-27</td>\n",
       "    </tr>\n",
       "    <tr>\n",
       "      <th>7</th>\n",
       "      <td>10009</td>\n",
       "      <td>2016-03-25</td>\n",
       "      <td>2016-03-29</td>\n",
       "    </tr>\n",
       "    <tr>\n",
       "      <th>8</th>\n",
       "      <td>10009</td>\n",
       "      <td>2017-05-07</td>\n",
       "      <td>2017-05-09</td>\n",
       "    </tr>\n",
       "    <tr>\n",
       "      <th>9</th>\n",
       "      <td>10009</td>\n",
       "      <td>2017-04-07</td>\n",
       "      <td>2017-04-09</td>\n",
       "    </tr>\n",
       "    <tr>\n",
       "      <th>...</th>\n",
       "      <td>...</td>\n",
       "      <td>...</td>\n",
       "      <td>...</td>\n",
       "    </tr>\n",
       "    <tr>\n",
       "      <th>1130</th>\n",
       "      <td>11996</td>\n",
       "      <td>2017-05-23</td>\n",
       "      <td>2017-05-25</td>\n",
       "    </tr>\n",
       "    <tr>\n",
       "      <th>1128</th>\n",
       "      <td>11996</td>\n",
       "      <td>2017-01-10</td>\n",
       "      <td>2017-01-14</td>\n",
       "    </tr>\n",
       "    <tr>\n",
       "      <th>1129</th>\n",
       "      <td>11996</td>\n",
       "      <td>2016-05-20</td>\n",
       "      <td>2016-05-21</td>\n",
       "    </tr>\n",
       "    <tr>\n",
       "      <th>1695</th>\n",
       "      <td>11998</td>\n",
       "      <td>2017-05-17</td>\n",
       "      <td>2017-05-20</td>\n",
       "    </tr>\n",
       "    <tr>\n",
       "      <th>1696</th>\n",
       "      <td>11998</td>\n",
       "      <td>2016-05-25</td>\n",
       "      <td>2016-05-27</td>\n",
       "    </tr>\n",
       "  </tbody>\n",
       "</table>\n",
       "<p>1920 rows × 3 columns</p>\n",
       "</div>"
      ],
      "text/plain": [
       "     person_id Diagnose_date Visit_date\n",
       "1304     10008    2021-02-26 2021-02-28\n",
       "6        10009    2017-05-24 2017-05-27\n",
       "7        10009    2016-03-25 2016-03-29\n",
       "8        10009    2017-05-07 2017-05-09\n",
       "9        10009    2017-04-07 2017-04-09\n",
       "...        ...           ...        ...\n",
       "1130     11996    2017-05-23 2017-05-25\n",
       "1128     11996    2017-01-10 2017-01-14\n",
       "1129     11996    2016-05-20 2016-05-21\n",
       "1695     11998    2017-05-17 2017-05-20\n",
       "1696     11998    2016-05-25 2016-05-27\n",
       "\n",
       "[1920 rows x 3 columns]"
      ]
     },
     "execution_count": 43,
     "metadata": {},
     "output_type": "execute_result"
    }
   ],
   "source": [
    "result_df"
   ]
  },
  {
   "cell_type": "code",
   "execution_count": null,
   "metadata": {
    "colab": {
     "base_uri": "https://localhost:8080/"
    },
    "executionInfo": {
     "elapsed": 425,
     "status": "ok",
     "timestamp": 1692214046235,
     "user": {
      "displayName": "sandeep kumar yedla",
      "userId": "03095330533283244433"
     },
     "user_tz": 240
    },
    "id": "zQ06rWqz646R",
    "outputId": "9af49dbf-fcf4-4015-e438-f3d40af9885b"
   },
   "outputs": [],
   "source": []
  },
  {
   "cell_type": "code",
   "execution_count": 28,
   "metadata": {
    "executionInfo": {
     "elapsed": 3,
     "status": "ok",
     "timestamp": 1692214046236,
     "user": {
      "displayName": "sandeep kumar yedla",
      "userId": "03095330533283244433"
     },
     "user_tz": 240
    },
    "id": "mSodoHVOpzRs"
   },
   "outputs": [],
   "source": [
    "## different approach \n",
    "result_df = pd.DataFrame(columns = ['person_id','Diagnose_date','Visit_date'])\n",
    "num_patients=0\n",
    "for person_id in filtered_diagnosis['person_id'].unique():\n",
    "  person_visit = filtered_visit[filtered_visit['person_id'] == person_id ]\n",
    "  person_diagnosis = filtered_diagnosis[filtered_diagnosis['person_id'] == person_id]\n",
    "  for _,diag_row in person_diagnosis.iterrows():\n",
    "    for _,visit_row in person_visit.iterrows():\n",
    "      if visit_row['visit_date'] > diag_row['diagnosis_date'] and visit_row['visit_date'] <= diag_row['diagnosis_date'] + pd.DateOffset(days=7):\n",
    "        result_df = result_df.append( { 'person_id' : visit_row['person_id'],\n",
    "                                         'Diagnose_date' : diag_row['diagnosis_date'],\n",
    "                                          'Visit_date' : visit_row['visit_date']}, ignore_index=True\n",
    "        )\n",
    "        num_patients+=1"
   ]
  },
  {
   "cell_type": "code",
   "execution_count": null,
   "metadata": {},
   "outputs": [],
   "source": [
    "print(\"Number of uniqie patients : \",len(result_df['person_id'].unique()))"
   ]
  },
  {
   "cell_type": "code",
   "execution_count": null,
   "metadata": {},
   "outputs": [],
   "source": [
    "result_df.to_csv(\"result.csv\")"
   ]
  },
  {
   "cell_type": "code",
   "execution_count": null,
   "metadata": {},
   "outputs": [],
   "source": [
    "result_df.sort_values(by='person_id', ascending= True, inplace=True)"
   ]
  },
  {
   "cell_type": "code",
   "execution_count": 59,
   "metadata": {},
   "outputs": [
    {
     "data": {
      "text/html": [
       "<div>\n",
       "<style scoped>\n",
       "    .dataframe tbody tr th:only-of-type {\n",
       "        vertical-align: middle;\n",
       "    }\n",
       "\n",
       "    .dataframe tbody tr th {\n",
       "        vertical-align: top;\n",
       "    }\n",
       "\n",
       "    .dataframe thead th {\n",
       "        text-align: right;\n",
       "    }\n",
       "</style>\n",
       "<table border=\"1\" class=\"dataframe\">\n",
       "  <thead>\n",
       "    <tr style=\"text-align: right;\">\n",
       "      <th></th>\n",
       "      <th>person_id</th>\n",
       "      <th>Diagnose_date</th>\n",
       "      <th>Visit_date</th>\n",
       "    </tr>\n",
       "  </thead>\n",
       "  <tbody>\n",
       "    <tr>\n",
       "      <th>1304</th>\n",
       "      <td>10008</td>\n",
       "      <td>2021-02-26</td>\n",
       "      <td>2021-02-28</td>\n",
       "    </tr>\n",
       "    <tr>\n",
       "      <th>6</th>\n",
       "      <td>10009</td>\n",
       "      <td>2017-05-24</td>\n",
       "      <td>2017-05-27</td>\n",
       "    </tr>\n",
       "    <tr>\n",
       "      <th>7</th>\n",
       "      <td>10009</td>\n",
       "      <td>2016-03-25</td>\n",
       "      <td>2016-03-29</td>\n",
       "    </tr>\n",
       "    <tr>\n",
       "      <th>8</th>\n",
       "      <td>10009</td>\n",
       "      <td>2017-05-07</td>\n",
       "      <td>2017-05-09</td>\n",
       "    </tr>\n",
       "    <tr>\n",
       "      <th>9</th>\n",
       "      <td>10009</td>\n",
       "      <td>2017-04-07</td>\n",
       "      <td>2017-04-09</td>\n",
       "    </tr>\n",
       "  </tbody>\n",
       "</table>\n",
       "</div>"
      ],
      "text/plain": [
       "     person_id Diagnose_date Visit_date\n",
       "1304     10008    2021-02-26 2021-02-28\n",
       "6        10009    2017-05-24 2017-05-27\n",
       "7        10009    2016-03-25 2016-03-29\n",
       "8        10009    2017-05-07 2017-05-09\n",
       "9        10009    2017-04-07 2017-04-09"
      ]
     },
     "execution_count": 59,
     "metadata": {},
     "output_type": "execute_result"
    }
   ],
   "source": [
    "result_df.head()"
   ]
  },
  {
   "cell_type": "code",
   "execution_count": null,
   "metadata": {},
   "outputs": [],
   "source": []
  }
 ],
 "metadata": {
  "colab": {
   "authorship_tag": "ABX9TyPvejM9ZMb1Oz02KYYiC4Xl",
   "mount_file_id": "1klBmUfkuhsqtxVcH-zum_RrV3vMLQBZc",
   "provenance": []
  },
  "kernelspec": {
   "display_name": "Python 3 (ipykernel)",
   "language": "python",
   "name": "python3"
  },
  "language_info": {
   "codemirror_mode": {
    "name": "ipython",
    "version": 3
   },
   "file_extension": ".py",
   "mimetype": "text/x-python",
   "name": "python",
   "nbconvert_exporter": "python",
   "pygments_lexer": "ipython3",
   "version": "3.8.17"
  }
 },
 "nbformat": 4,
 "nbformat_minor": 4
}
